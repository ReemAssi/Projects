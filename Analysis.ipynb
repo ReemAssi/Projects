{
 "cells": [
  {
   "cell_type": "markdown",
   "id": "3d732d57",
   "metadata": {},
   "source": [
    "## Analysis of 'show_number' Actions Throughout a Month \n"
   ]
  },
  {
   "cell_type": "markdown",
   "id": "1ff2f9c4",
   "metadata": {},
   "source": [
    "The data in the calls_task.csv file represents 'show_number' actions throughout a whole month, \n",
    "and what is needed is the following:\n",
    "\n",
    "1)Explanation with a graph for the problem\n",
    "\n",
    "\n",
    "2)Potential causes of the problem\n",
    "\n",
    "\n",
    "3)Suggestions to mitigate it in the future"
   ]
  },
  {
   "cell_type": "code",
   "execution_count": 1,
   "id": "06372d46",
   "metadata": {},
   "outputs": [],
   "source": [
    "import pandas as pd\n",
    "import numpy as np\n",
    "import matplotlib.pyplot as plt\n",
    "import seaborn as sns\n"
   ]
  },
  {
   "cell_type": "code",
   "execution_count": 2,
   "id": "4f0b9124",
   "metadata": {},
   "outputs": [],
   "source": [
    "data = pd.read_csv(r\"C:\\Users\\PC\\Desktop\\Tasks\\Task1\\calls_task.csv\")"
   ]
  },
  {
   "cell_type": "markdown",
   "id": "693a8a36",
   "metadata": {},
   "source": [
    "# Data Overview"
   ]
  },
  {
   "cell_type": "code",
   "execution_count": 3,
   "id": "1ded9bad",
   "metadata": {},
   "outputs": [
    {
     "data": {
      "text/html": [
       "<div>\n",
       "<style scoped>\n",
       "    .dataframe tbody tr th:only-of-type {\n",
       "        vertical-align: middle;\n",
       "    }\n",
       "\n",
       "    .dataframe tbody tr th {\n",
       "        vertical-align: top;\n",
       "    }\n",
       "\n",
       "    .dataframe thead th {\n",
       "        text-align: right;\n",
       "    }\n",
       "</style>\n",
       "<table border=\"1\" class=\"dataframe\">\n",
       "  <thead>\n",
       "    <tr style=\"text-align: right;\">\n",
       "      <th></th>\n",
       "      <th>ACTION_DATE</th>\n",
       "      <th>ACTION_ID</th>\n",
       "      <th>MEMBER_ID</th>\n",
       "      <th>ACTION_TYPE</th>\n",
       "    </tr>\n",
       "  </thead>\n",
       "  <tbody>\n",
       "    <tr>\n",
       "      <th>0</th>\n",
       "      <td>2022-04-10T01:57:30Z</td>\n",
       "      <td>89821691</td>\n",
       "      <td>116778534.0</td>\n",
       "      <td>show_number</td>\n",
       "    </tr>\n",
       "    <tr>\n",
       "      <th>1</th>\n",
       "      <td>2022-04-10T02:08:47Z</td>\n",
       "      <td>89915585</td>\n",
       "      <td>110472624.0</td>\n",
       "      <td>show_number</td>\n",
       "    </tr>\n",
       "    <tr>\n",
       "      <th>2</th>\n",
       "      <td>2022-04-10T02:31:42Z</td>\n",
       "      <td>90099017</td>\n",
       "      <td>6961446.0</td>\n",
       "      <td>show_number</td>\n",
       "    </tr>\n",
       "    <tr>\n",
       "      <th>3</th>\n",
       "      <td>2022-04-05T16:46:39Z</td>\n",
       "      <td>43538787</td>\n",
       "      <td>107681746.0</td>\n",
       "      <td>show_number</td>\n",
       "    </tr>\n",
       "    <tr>\n",
       "      <th>4</th>\n",
       "      <td>2022-04-05T17:03:33Z</td>\n",
       "      <td>43670683</td>\n",
       "      <td>108485886.0</td>\n",
       "      <td>show_number</td>\n",
       "    </tr>\n",
       "    <tr>\n",
       "      <th>...</th>\n",
       "      <td>...</td>\n",
       "      <td>...</td>\n",
       "      <td>...</td>\n",
       "      <td>...</td>\n",
       "    </tr>\n",
       "    <tr>\n",
       "      <th>496723</th>\n",
       "      <td>2022-04-14T18:59:46Z</td>\n",
       "      <td>137134739</td>\n",
       "      <td>118280514.0</td>\n",
       "      <td>show_number</td>\n",
       "    </tr>\n",
       "    <tr>\n",
       "      <th>496724</th>\n",
       "      <td>2022-04-14T19:00:08Z</td>\n",
       "      <td>137137555</td>\n",
       "      <td>118280514.0</td>\n",
       "      <td>show_number</td>\n",
       "    </tr>\n",
       "    <tr>\n",
       "      <th>496725</th>\n",
       "      <td>2022-04-19T13:57:25Z</td>\n",
       "      <td>187460783</td>\n",
       "      <td>118579286.0</td>\n",
       "      <td>show_number</td>\n",
       "    </tr>\n",
       "    <tr>\n",
       "      <th>496726</th>\n",
       "      <td>2022-04-24T16:34:48Z</td>\n",
       "      <td>242643555</td>\n",
       "      <td>118821126.0</td>\n",
       "      <td>show_number</td>\n",
       "    </tr>\n",
       "    <tr>\n",
       "      <th>496727</th>\n",
       "      <td>2022-04-29T20:26:06Z</td>\n",
       "      <td>296794047</td>\n",
       "      <td>67680072.0</td>\n",
       "      <td>show_number</td>\n",
       "    </tr>\n",
       "  </tbody>\n",
       "</table>\n",
       "<p>496728 rows × 4 columns</p>\n",
       "</div>"
      ],
      "text/plain": [
       "                 ACTION_DATE  ACTION_ID    MEMBER_ID  ACTION_TYPE\n",
       "0       2022-04-10T01:57:30Z   89821691  116778534.0  show_number\n",
       "1       2022-04-10T02:08:47Z   89915585  110472624.0  show_number\n",
       "2       2022-04-10T02:31:42Z   90099017    6961446.0  show_number\n",
       "3       2022-04-05T16:46:39Z   43538787  107681746.0  show_number\n",
       "4       2022-04-05T17:03:33Z   43670683  108485886.0  show_number\n",
       "...                      ...        ...          ...          ...\n",
       "496723  2022-04-14T18:59:46Z  137134739  118280514.0  show_number\n",
       "496724  2022-04-14T19:00:08Z  137137555  118280514.0  show_number\n",
       "496725  2022-04-19T13:57:25Z  187460783  118579286.0  show_number\n",
       "496726  2022-04-24T16:34:48Z  242643555  118821126.0  show_number\n",
       "496727  2022-04-29T20:26:06Z  296794047   67680072.0  show_number\n",
       "\n",
       "[496728 rows x 4 columns]"
      ]
     },
     "execution_count": 3,
     "metadata": {},
     "output_type": "execute_result"
    }
   ],
   "source": [
    "data"
   ]
  },
  {
   "cell_type": "markdown",
   "id": "b21303d7",
   "metadata": {},
   "source": [
    "#### Data Shape"
   ]
  },
  {
   "cell_type": "code",
   "execution_count": 4,
   "id": "116b76e0",
   "metadata": {},
   "outputs": [
    {
     "data": {
      "text/plain": [
       "(496728, 4)"
      ]
     },
     "execution_count": 4,
     "metadata": {},
     "output_type": "execute_result"
    }
   ],
   "source": [
    "data.shape"
   ]
  },
  {
   "cell_type": "markdown",
   "id": "3f764f09",
   "metadata": {},
   "source": [
    "#### Data Columns Types"
   ]
  },
  {
   "cell_type": "code",
   "execution_count": 5,
   "id": "adaa7bf7",
   "metadata": {
    "scrolled": true
   },
   "outputs": [
    {
     "data": {
      "text/plain": [
       "ACTION_DATE     object\n",
       "ACTION_ID        int64\n",
       "MEMBER_ID      float64\n",
       "ACTION_TYPE     object\n",
       "dtype: object"
      ]
     },
     "execution_count": 5,
     "metadata": {},
     "output_type": "execute_result"
    }
   ],
   "source": [
    "data.dtypes"
   ]
  },
  {
   "cell_type": "code",
   "execution_count": 6,
   "id": "afd2426b",
   "metadata": {},
   "outputs": [
    {
     "name": "stdout",
     "output_type": "stream",
     "text": [
      "Number of unique values in ACTION_ID:  496728\n",
      "Number of unique values in MEMBER_ID:  29869\n",
      "Number of unique values in ACTION_DATE:  338458\n",
      "Number of unique values in ACTION_TYPE:  1\n"
     ]
    }
   ],
   "source": [
    "print('Number of unique values in ACTION_ID: ',data['ACTION_ID'].nunique())\n",
    "print('Number of unique values in MEMBER_ID: ',data['MEMBER_ID'].nunique())\n",
    "print('Number of unique values in ACTION_DATE: ',data['ACTION_DATE'].nunique())\n",
    "print('Number of unique values in ACTION_TYPE: ',data['ACTION_TYPE'].nunique())"
   ]
  },
  {
   "cell_type": "markdown",
   "id": "2a99f5e9",
   "metadata": {},
   "source": [
    "## Data Integrity "
   ]
  },
  {
   "cell_type": "markdown",
   "id": "5158a377",
   "metadata": {},
   "source": [
    "#### Duplicates"
   ]
  },
  {
   "cell_type": "code",
   "execution_count": 7,
   "id": "f01ade20",
   "metadata": {},
   "outputs": [
    {
     "name": "stdout",
     "output_type": "stream",
     "text": [
      "Duplicates between records:  0\n",
      "Duplicates in ACTION_ID column:  0\n"
     ]
    }
   ],
   "source": [
    "print('Duplicates between records: ',data.duplicated().sum())\n",
    "print('Duplicates in ACTION_ID column: ',data['ACTION_ID'].duplicated().sum())\n"
   ]
  },
  {
   "cell_type": "markdown",
   "id": "d39aa28a",
   "metadata": {},
   "source": [
    "#### Missing Values"
   ]
  },
  {
   "cell_type": "code",
   "execution_count": 8,
   "id": "5f2ce6e7",
   "metadata": {},
   "outputs": [
    {
     "data": {
      "text/plain": [
       "ACTION_DATE      0\n",
       "ACTION_ID        0\n",
       "MEMBER_ID      476\n",
       "ACTION_TYPE      0\n",
       "dtype: int64"
      ]
     },
     "execution_count": 8,
     "metadata": {},
     "output_type": "execute_result"
    }
   ],
   "source": [
    "data.isna().sum()"
   ]
  },
  {
   "cell_type": "markdown",
   "id": "679c7c47",
   "metadata": {},
   "source": [
    "# Data Exploration and Analysis"
   ]
  },
  {
   "cell_type": "markdown",
   "id": "6b75a862",
   "metadata": {},
   "source": [
    "## Handling Missing Values "
   ]
  },
  {
   "cell_type": "markdown",
   "id": "e440bf7a",
   "metadata": {},
   "source": [
    "###### Solution 1 for missing values"
   ]
  },
  {
   "cell_type": "code",
   "execution_count": 9,
   "id": "eab724b2",
   "metadata": {},
   "outputs": [
    {
     "data": {
      "text/html": [
       "<div>\n",
       "<style scoped>\n",
       "    .dataframe tbody tr th:only-of-type {\n",
       "        vertical-align: middle;\n",
       "    }\n",
       "\n",
       "    .dataframe tbody tr th {\n",
       "        vertical-align: top;\n",
       "    }\n",
       "\n",
       "    .dataframe thead th {\n",
       "        text-align: right;\n",
       "    }\n",
       "</style>\n",
       "<table border=\"1\" class=\"dataframe\">\n",
       "  <thead>\n",
       "    <tr style=\"text-align: right;\">\n",
       "      <th></th>\n",
       "      <th>ACTION_DATE</th>\n",
       "      <th>ACTION_ID</th>\n",
       "      <th>MEMBER_ID</th>\n",
       "      <th>ACTION_TYPE</th>\n",
       "    </tr>\n",
       "  </thead>\n",
       "  <tbody>\n",
       "    <tr>\n",
       "      <th>3654</th>\n",
       "      <td>2022-04-06T11:30:45Z</td>\n",
       "      <td>50956777</td>\n",
       "      <td>NaN</td>\n",
       "      <td>show_number</td>\n",
       "    </tr>\n",
       "    <tr>\n",
       "      <th>3897</th>\n",
       "      <td>2022-04-23T11:10:32Z</td>\n",
       "      <td>228472079</td>\n",
       "      <td>NaN</td>\n",
       "      <td>show_number</td>\n",
       "    </tr>\n",
       "    <tr>\n",
       "      <th>4213</th>\n",
       "      <td>2022-04-26T23:16:00Z</td>\n",
       "      <td>268771103</td>\n",
       "      <td>NaN</td>\n",
       "      <td>show_number</td>\n",
       "    </tr>\n",
       "    <tr>\n",
       "      <th>5230</th>\n",
       "      <td>2022-04-05T14:07:05Z</td>\n",
       "      <td>42294177</td>\n",
       "      <td>NaN</td>\n",
       "      <td>show_number</td>\n",
       "    </tr>\n",
       "    <tr>\n",
       "      <th>5245</th>\n",
       "      <td>2022-04-02T20:41:30Z</td>\n",
       "      <td>17189237</td>\n",
       "      <td>NaN</td>\n",
       "      <td>show_number</td>\n",
       "    </tr>\n",
       "    <tr>\n",
       "      <th>...</th>\n",
       "      <td>...</td>\n",
       "      <td>...</td>\n",
       "      <td>...</td>\n",
       "      <td>...</td>\n",
       "    </tr>\n",
       "    <tr>\n",
       "      <th>493971</th>\n",
       "      <td>2022-04-28T12:14:01Z</td>\n",
       "      <td>283846961</td>\n",
       "      <td>NaN</td>\n",
       "      <td>show_number</td>\n",
       "    </tr>\n",
       "    <tr>\n",
       "      <th>494027</th>\n",
       "      <td>2022-04-06T15:19:43Z</td>\n",
       "      <td>52720911</td>\n",
       "      <td>NaN</td>\n",
       "      <td>show_number</td>\n",
       "    </tr>\n",
       "    <tr>\n",
       "      <th>494731</th>\n",
       "      <td>2022-04-11T13:47:17Z</td>\n",
       "      <td>103957255</td>\n",
       "      <td>NaN</td>\n",
       "      <td>show_number</td>\n",
       "    </tr>\n",
       "    <tr>\n",
       "      <th>496162</th>\n",
       "      <td>2022-04-03T14:49:25Z</td>\n",
       "      <td>24005959</td>\n",
       "      <td>NaN</td>\n",
       "      <td>show_number</td>\n",
       "    </tr>\n",
       "    <tr>\n",
       "      <th>496193</th>\n",
       "      <td>2022-04-03T16:02:28Z</td>\n",
       "      <td>24547591</td>\n",
       "      <td>NaN</td>\n",
       "      <td>show_number</td>\n",
       "    </tr>\n",
       "  </tbody>\n",
       "</table>\n",
       "<p>476 rows × 4 columns</p>\n",
       "</div>"
      ],
      "text/plain": [
       "                 ACTION_DATE  ACTION_ID  MEMBER_ID  ACTION_TYPE\n",
       "3654    2022-04-06T11:30:45Z   50956777        NaN  show_number\n",
       "3897    2022-04-23T11:10:32Z  228472079        NaN  show_number\n",
       "4213    2022-04-26T23:16:00Z  268771103        NaN  show_number\n",
       "5230    2022-04-05T14:07:05Z   42294177        NaN  show_number\n",
       "5245    2022-04-02T20:41:30Z   17189237        NaN  show_number\n",
       "...                      ...        ...        ...          ...\n",
       "493971  2022-04-28T12:14:01Z  283846961        NaN  show_number\n",
       "494027  2022-04-06T15:19:43Z   52720911        NaN  show_number\n",
       "494731  2022-04-11T13:47:17Z  103957255        NaN  show_number\n",
       "496162  2022-04-03T14:49:25Z   24005959        NaN  show_number\n",
       "496193  2022-04-03T16:02:28Z   24547591        NaN  show_number\n",
       "\n",
       "[476 rows x 4 columns]"
      ]
     },
     "metadata": {},
     "output_type": "display_data"
    },
    {
     "name": "stdout",
     "output_type": "stream",
     "text": [
      "Percentage of null records:  0.1\n"
     ]
    }
   ],
   "source": [
    "nulls = data[data['MEMBER_ID'].isnull()]\n",
    "display(nulls)\n",
    "print('Percentage of null records: ', round( (nulls.shape[0]/data.shape[0] * 100) ,2))\n",
    "# Sine the percentage of null records does not exceed 1% of overall records then I will drop these null records \n",
    "data.dropna(inplace=True)"
   ]
  },
  {
   "cell_type": "markdown",
   "id": "07a08c9a",
   "metadata": {},
   "source": [
    "###### Solution 2 for missing values"
   ]
  },
  {
   "cell_type": "code",
   "execution_count": 10,
   "id": "7d79efb7",
   "metadata": {},
   "outputs": [],
   "source": [
    "# data.fillna(-1, inplace=True)\n",
    "# null = data[data['MEMBER_ID']==-1]\n",
    "# null['AD'] = pd.to_datetime(null['ACTION_DATE'])\n",
    "# null['Day']= null['AD'].dt.day\n",
    "\n",
    "# DayHours = null.groupby('Day')['ACTION_ID'].count().reset_index(name='count')\n",
    "\n",
    "# plt.plot(DayHours['Day'], DayHours['count'], marker='o', color='darkblue')\n",
    "# plt.xticks(DayHours['Day'], rotation=45, ha=\"right\")\n",
    "# plt.xlabel('Day')\n",
    "# plt.ylabel('Number of Actions')\n",
    "# plt.title('Number of Actions per Day without known member')\n",
    "\n",
    "# plt.show()\n",
    "\n",
    "# #number of actions without known member have been decreased over time"
   ]
  },
  {
   "cell_type": "markdown",
   "id": "abc8a963",
   "metadata": {},
   "source": [
    "There are different ways to handle missing values, but these ways depend on the Domain Knowledge of the problem. If there is only interest in actions and their IDs, rather than the members themselves, then members' missing values can be replaced with (-1) to indicate that this action has no ‘MEMBER_ID’ but the action itself will be recorded. \n",
    "Since I do not have a background about the problem, and with only 476 missing values in the 'MEMBER_ID' column (less than 1% of the data) I decided to drop those records due to their minimal impact.\n"
   ]
  },
  {
   "cell_type": "markdown",
   "id": "888aedbb",
   "metadata": {},
   "source": [
    "## Data Types & Consistency"
   ]
  },
  {
   "cell_type": "markdown",
   "id": "d1caf986",
   "metadata": {},
   "source": [
    "#### Converting the ID columns to String "
   ]
  },
  {
   "cell_type": "code",
   "execution_count": 11,
   "id": "8453c8d5",
   "metadata": {},
   "outputs": [],
   "source": [
    "data['ACTION_ID'] = data['ACTION_ID'].astype(str)\n",
    "data['MEMBER_ID'] = data['MEMBER_ID'].astype(int).astype(str) #To (int) first to remove the decimal part (.0)"
   ]
  },
  {
   "cell_type": "markdown",
   "id": "6d4525be",
   "metadata": {},
   "source": [
    "To maintain consistency, I converted ‘ACTION_ID’ and ‘MEMBER_ID’ columns to string format, I also converted ‘ACTION_DATE’ to datetime format."
   ]
  },
  {
   "cell_type": "markdown",
   "id": "e9a4ace6",
   "metadata": {},
   "source": [
    "#### Timezone Consideration:"
   ]
  },
  {
   "cell_type": "code",
   "execution_count": 12,
   "id": "629b88a9",
   "metadata": {},
   "outputs": [
    {
     "name": "stdout",
     "output_type": "stream",
     "text": [
      "All records in the ACTION_DATE column have the same timezone.\n"
     ]
    }
   ],
   "source": [
    "# Check if all records have the same timezone\n",
    "data['ACTION_DATE'] = pd.to_datetime(data['ACTION_DATE'])\n",
    "\n",
    "first_timezone = data['ACTION_DATE'].iloc[0].tzinfo\n",
    "\n",
    "all_same_timezone = all(record.tzinfo == first_timezone for record in data['ACTION_DATE'])\n",
    "\n",
    "if all_same_timezone:\n",
    "    print(\"All records in the ACTION_DATE column have the same timezone.\")\n",
    "else:\n",
    "    print(\"Records in the ACTION_DATE column have different timezones.\")\n",
    "    \n",
    "#Since all records have the same timezone we can remove it for better appearance\n",
    "data['ACTION_DATE'] = data['ACTION_DATE'].dt.tz_localize(None)\n"
   ]
  },
  {
   "cell_type": "markdown",
   "id": "34b90cf6",
   "metadata": {},
   "source": [
    "All records in the 'ACTION_DATE' column were found to have the same timezone, allowing for the removal of timezone information for better visualization."
   ]
  },
  {
   "cell_type": "markdown",
   "id": "4d742857",
   "metadata": {},
   "source": [
    "## Feature Engineering"
   ]
  },
  {
   "cell_type": "code",
   "execution_count": 13,
   "id": "06d2761c",
   "metadata": {},
   "outputs": [],
   "source": [
    "data['Date'] = data['ACTION_DATE'].dt.date\n",
    "data['Time'] = data['ACTION_DATE'].dt.time\n",
    "data['Day']= data['ACTION_DATE'].dt.day\n",
    "data['Hour']= data['ACTION_DATE'].dt.hour\n",
    "\n",
    "# data['Minute']= data['ACTION_DATE'].dt.minute\n",
    "# data['Second']= data['ACTION_DATE'].dt.second\n"
   ]
  },
  {
   "cell_type": "code",
   "execution_count": 14,
   "id": "f0936dff",
   "metadata": {},
   "outputs": [
    {
     "data": {
      "text/html": [
       "<div>\n",
       "<style scoped>\n",
       "    .dataframe tbody tr th:only-of-type {\n",
       "        vertical-align: middle;\n",
       "    }\n",
       "\n",
       "    .dataframe tbody tr th {\n",
       "        vertical-align: top;\n",
       "    }\n",
       "\n",
       "    .dataframe thead th {\n",
       "        text-align: right;\n",
       "    }\n",
       "</style>\n",
       "<table border=\"1\" class=\"dataframe\">\n",
       "  <thead>\n",
       "    <tr style=\"text-align: right;\">\n",
       "      <th></th>\n",
       "      <th>ACTION_DATE</th>\n",
       "      <th>ACTION_ID</th>\n",
       "      <th>MEMBER_ID</th>\n",
       "      <th>ACTION_TYPE</th>\n",
       "      <th>Date</th>\n",
       "      <th>Time</th>\n",
       "      <th>Day</th>\n",
       "      <th>Hour</th>\n",
       "    </tr>\n",
       "  </thead>\n",
       "  <tbody>\n",
       "    <tr>\n",
       "      <th>0</th>\n",
       "      <td>2022-04-10 01:57:30</td>\n",
       "      <td>89821691</td>\n",
       "      <td>116778534</td>\n",
       "      <td>show_number</td>\n",
       "      <td>2022-04-10</td>\n",
       "      <td>01:57:30</td>\n",
       "      <td>10</td>\n",
       "      <td>1</td>\n",
       "    </tr>\n",
       "    <tr>\n",
       "      <th>1</th>\n",
       "      <td>2022-04-10 02:08:47</td>\n",
       "      <td>89915585</td>\n",
       "      <td>110472624</td>\n",
       "      <td>show_number</td>\n",
       "      <td>2022-04-10</td>\n",
       "      <td>02:08:47</td>\n",
       "      <td>10</td>\n",
       "      <td>2</td>\n",
       "    </tr>\n",
       "    <tr>\n",
       "      <th>2</th>\n",
       "      <td>2022-04-10 02:31:42</td>\n",
       "      <td>90099017</td>\n",
       "      <td>6961446</td>\n",
       "      <td>show_number</td>\n",
       "      <td>2022-04-10</td>\n",
       "      <td>02:31:42</td>\n",
       "      <td>10</td>\n",
       "      <td>2</td>\n",
       "    </tr>\n",
       "    <tr>\n",
       "      <th>3</th>\n",
       "      <td>2022-04-05 16:46:39</td>\n",
       "      <td>43538787</td>\n",
       "      <td>107681746</td>\n",
       "      <td>show_number</td>\n",
       "      <td>2022-04-05</td>\n",
       "      <td>16:46:39</td>\n",
       "      <td>5</td>\n",
       "      <td>16</td>\n",
       "    </tr>\n",
       "    <tr>\n",
       "      <th>4</th>\n",
       "      <td>2022-04-05 17:03:33</td>\n",
       "      <td>43670683</td>\n",
       "      <td>108485886</td>\n",
       "      <td>show_number</td>\n",
       "      <td>2022-04-05</td>\n",
       "      <td>17:03:33</td>\n",
       "      <td>5</td>\n",
       "      <td>17</td>\n",
       "    </tr>\n",
       "    <tr>\n",
       "      <th>...</th>\n",
       "      <td>...</td>\n",
       "      <td>...</td>\n",
       "      <td>...</td>\n",
       "      <td>...</td>\n",
       "      <td>...</td>\n",
       "      <td>...</td>\n",
       "      <td>...</td>\n",
       "      <td>...</td>\n",
       "    </tr>\n",
       "    <tr>\n",
       "      <th>496723</th>\n",
       "      <td>2022-04-14 18:59:46</td>\n",
       "      <td>137134739</td>\n",
       "      <td>118280514</td>\n",
       "      <td>show_number</td>\n",
       "      <td>2022-04-14</td>\n",
       "      <td>18:59:46</td>\n",
       "      <td>14</td>\n",
       "      <td>18</td>\n",
       "    </tr>\n",
       "    <tr>\n",
       "      <th>496724</th>\n",
       "      <td>2022-04-14 19:00:08</td>\n",
       "      <td>137137555</td>\n",
       "      <td>118280514</td>\n",
       "      <td>show_number</td>\n",
       "      <td>2022-04-14</td>\n",
       "      <td>19:00:08</td>\n",
       "      <td>14</td>\n",
       "      <td>19</td>\n",
       "    </tr>\n",
       "    <tr>\n",
       "      <th>496725</th>\n",
       "      <td>2022-04-19 13:57:25</td>\n",
       "      <td>187460783</td>\n",
       "      <td>118579286</td>\n",
       "      <td>show_number</td>\n",
       "      <td>2022-04-19</td>\n",
       "      <td>13:57:25</td>\n",
       "      <td>19</td>\n",
       "      <td>13</td>\n",
       "    </tr>\n",
       "    <tr>\n",
       "      <th>496726</th>\n",
       "      <td>2022-04-24 16:34:48</td>\n",
       "      <td>242643555</td>\n",
       "      <td>118821126</td>\n",
       "      <td>show_number</td>\n",
       "      <td>2022-04-24</td>\n",
       "      <td>16:34:48</td>\n",
       "      <td>24</td>\n",
       "      <td>16</td>\n",
       "    </tr>\n",
       "    <tr>\n",
       "      <th>496727</th>\n",
       "      <td>2022-04-29 20:26:06</td>\n",
       "      <td>296794047</td>\n",
       "      <td>67680072</td>\n",
       "      <td>show_number</td>\n",
       "      <td>2022-04-29</td>\n",
       "      <td>20:26:06</td>\n",
       "      <td>29</td>\n",
       "      <td>20</td>\n",
       "    </tr>\n",
       "  </tbody>\n",
       "</table>\n",
       "<p>496252 rows × 8 columns</p>\n",
       "</div>"
      ],
      "text/plain": [
       "               ACTION_DATE  ACTION_ID  MEMBER_ID  ACTION_TYPE        Date  \\\n",
       "0      2022-04-10 01:57:30   89821691  116778534  show_number  2022-04-10   \n",
       "1      2022-04-10 02:08:47   89915585  110472624  show_number  2022-04-10   \n",
       "2      2022-04-10 02:31:42   90099017    6961446  show_number  2022-04-10   \n",
       "3      2022-04-05 16:46:39   43538787  107681746  show_number  2022-04-05   \n",
       "4      2022-04-05 17:03:33   43670683  108485886  show_number  2022-04-05   \n",
       "...                    ...        ...        ...          ...         ...   \n",
       "496723 2022-04-14 18:59:46  137134739  118280514  show_number  2022-04-14   \n",
       "496724 2022-04-14 19:00:08  137137555  118280514  show_number  2022-04-14   \n",
       "496725 2022-04-19 13:57:25  187460783  118579286  show_number  2022-04-19   \n",
       "496726 2022-04-24 16:34:48  242643555  118821126  show_number  2022-04-24   \n",
       "496727 2022-04-29 20:26:06  296794047   67680072  show_number  2022-04-29   \n",
       "\n",
       "            Time  Day  Hour  \n",
       "0       01:57:30   10     1  \n",
       "1       02:08:47   10     2  \n",
       "2       02:31:42   10     2  \n",
       "3       16:46:39    5    16  \n",
       "4       17:03:33    5    17  \n",
       "...          ...  ...   ...  \n",
       "496723  18:59:46   14    18  \n",
       "496724  19:00:08   14    19  \n",
       "496725  13:57:25   19    13  \n",
       "496726  16:34:48   24    16  \n",
       "496727  20:26:06   29    20  \n",
       "\n",
       "[496252 rows x 8 columns]"
      ]
     },
     "execution_count": 14,
     "metadata": {},
     "output_type": "execute_result"
    }
   ],
   "source": [
    "data"
   ]
  },
  {
   "cell_type": "markdown",
   "id": "e4c90c19",
   "metadata": {},
   "source": [
    "## Checking the data"
   ]
  },
  {
   "cell_type": "code",
   "execution_count": 15,
   "id": "86a2a8f5",
   "metadata": {},
   "outputs": [
    {
     "name": "stdout",
     "output_type": "stream",
     "text": [
      "Month:  [4]\n",
      "Number of days that has data:  30\n",
      "Action Type:  ['show_number']\n"
     ]
    }
   ],
   "source": [
    "data['Date'] = pd.to_datetime(data['Date'])\n",
    "\n",
    "print('Month: ',data['Date'].dt.month.unique()) #checking that the data has only April month\n",
    "print('Number of days that has data: ',len(data['Date'].dt.day.unique()) )#checking that that there is data for 30 days \n",
    "print('Action Type: ',data['ACTION_TYPE'].unique()) #to make sure thar the action is only \"show_number\"\n",
    "data.drop('ACTION_TYPE', axis = 1,inplace=True) #I don't need it anymore"
   ]
  },
  {
   "cell_type": "markdown",
   "id": "53e9d682",
   "metadata": {},
   "source": [
    "## Investigating Data (Possible Data Problems)"
   ]
  },
  {
   "cell_type": "markdown",
   "id": "45d5d97f",
   "metadata": {},
   "source": [
    "#### Number of Actions per Day"
   ]
  },
  {
   "cell_type": "code",
   "execution_count": 16,
   "id": "c12b3a66",
   "metadata": {},
   "outputs": [
    {
     "data": {
      "text/html": [
       "<div>\n",
       "<style scoped>\n",
       "    .dataframe tbody tr th:only-of-type {\n",
       "        vertical-align: middle;\n",
       "    }\n",
       "\n",
       "    .dataframe tbody tr th {\n",
       "        vertical-align: top;\n",
       "    }\n",
       "\n",
       "    .dataframe thead th {\n",
       "        text-align: right;\n",
       "    }\n",
       "</style>\n",
       "<table border=\"1\" class=\"dataframe\">\n",
       "  <thead>\n",
       "    <tr style=\"text-align: right;\">\n",
       "      <th></th>\n",
       "      <th>Day</th>\n",
       "      <th>count</th>\n",
       "    </tr>\n",
       "  </thead>\n",
       "  <tbody>\n",
       "    <tr>\n",
       "      <th>0</th>\n",
       "      <td>1</td>\n",
       "      <td>6819</td>\n",
       "    </tr>\n",
       "    <tr>\n",
       "      <th>1</th>\n",
       "      <td>2</td>\n",
       "      <td>8798</td>\n",
       "    </tr>\n",
       "    <tr>\n",
       "      <th>2</th>\n",
       "      <td>3</td>\n",
       "      <td>10222</td>\n",
       "    </tr>\n",
       "    <tr>\n",
       "      <th>3</th>\n",
       "      <td>4</td>\n",
       "      <td>14168</td>\n",
       "    </tr>\n",
       "    <tr>\n",
       "      <th>4</th>\n",
       "      <td>5</td>\n",
       "      <td>13070</td>\n",
       "    </tr>\n",
       "  </tbody>\n",
       "</table>\n",
       "</div>"
      ],
      "text/plain": [
       "   Day  count\n",
       "0    1   6819\n",
       "1    2   8798\n",
       "2    3  10222\n",
       "3    4  14168\n",
       "4    5  13070"
      ]
     },
     "execution_count": 16,
     "metadata": {},
     "output_type": "execute_result"
    }
   ],
   "source": [
    "dayActions = data.groupby('Day')['ACTION_ID'].count().reset_index(name='count')\n",
    "dayActions.head()"
   ]
  },
  {
   "cell_type": "code",
   "execution_count": 17,
   "id": "5fc769e4",
   "metadata": {},
   "outputs": [
    {
     "data": {
      "image/png": "[encoded data removed]",
      "text/plain": [
       "<Figure size 640x480 with 1 Axes>"
      ]
     },
     "metadata": {},
     "output_type": "display_data"
    }
   ],
   "source": [
    "# plt.bar(dayActions['Day'], dayActions['count'])\n",
    "plt.plot(dayActions['Day'], dayActions['count'], marker='o', color='darkblue')\n",
    "even_ticks = dayActions['Day'][dayActions['Day'] % 2 == 0].tolist()\n",
    "plt.xticks(even_ticks, ha=\"right\")\n",
    "plt.xlabel('Day')\n",
    "plt.ylabel('Number of Actions')\n",
    "plt.title('Number of Actions on Each Day of April-2022')\n",
    "plt.show()\n",
    "\n",
    "# As we can see that at day 14-04-2022 there was the largest number of actions"
   ]
  },
  {
   "cell_type": "code",
   "execution_count": 18,
   "id": "ba117a20",
   "metadata": {},
   "outputs": [
    {
     "name": "stdout",
     "output_type": "stream",
     "text": [
      "The day that has the maximum # of actions is day: 14 with: 89303 actions\n"
     ]
    }
   ],
   "source": [
    "c= dayActions.set_index('Day')\n",
    "print('The day that has the maximum # of actions is day:',c['count'].idxmax(),'with:', c['count'].max(),'actions')"
   ]
  },
  {
   "cell_type": "markdown",
   "id": "c4406d56",
   "metadata": {},
   "source": [
    "As shown, day 14-04-2022 had the highest number of actions, indicating a potential anomaly."
   ]
  },
  {
   "cell_type": "markdown",
   "id": "e4c00b25",
   "metadata": {},
   "source": [
    "#### Number of Actions per Member"
   ]
  },
  {
   "cell_type": "code",
   "execution_count": 19,
   "id": "181f00a2",
   "metadata": {},
   "outputs": [
    {
     "data": {
      "text/plain": [
       "MEMBER_ID\n",
       "118280514    103586\n",
       "109995906     68349\n",
       "118371934     46166\n",
       "34551118      12778\n",
       "113693220      6726\n",
       "113158184      5322\n",
       "100712124      4794\n",
       "117687742      2923\n",
       "16128090       2692\n",
       "114619058      2181\n",
       "117797614      2124\n",
       "110630280      2102\n",
       "118078498      1851\n",
       "114765782      1774\n",
       "99742024       1588\n",
       "101904160      1576\n",
       "86891144       1565\n",
       "117950722      1486\n",
       "101001376      1457\n",
       "90991296       1353\n",
       "116510782      1329\n",
       "110127334      1305\n",
       "117387406      1038\n",
       "113559492       983\n",
       "113505740       962\n",
       "115529194       918\n",
       "115652226       810\n",
       "48817692        780\n",
       "117948514       768\n",
       "99618104        700\n",
       "Name: ACTION_ID, dtype: int64"
      ]
     },
     "execution_count": 19,
     "metadata": {},
     "output_type": "execute_result"
    }
   ],
   "source": [
    "MemberActions = data.groupby('MEMBER_ID')['ACTION_ID'].count()\n",
    "MemberActions.nlargest(30)"
   ]
  },
  {
   "cell_type": "code",
   "execution_count": 20,
   "id": "cf213011",
   "metadata": {},
   "outputs": [
    {
     "data": {
      "image/png": "[encoded data removed]",
      "text/plain": [
       "<Figure size 640x480 with 1 Axes>"
      ]
     },
     "metadata": {},
     "output_type": "display_data"
    }
   ],
   "source": [
    "# I took a sample for the most 30 members that has done actions in the whole month\n",
    "SampleMemberActions= MemberActions.nlargest(30).reset_index(name='count')\n",
    "\n",
    "plt.bar(SampleMemberActions['MEMBER_ID'], SampleMemberActions['count'])\n",
    "plt.xticks(rotation=45, ha=\"right\")\n",
    "plt.tight_layout()\n",
    "plt.xlabel('Member ID')\n",
    "plt.ylabel('Number of Actions')\n",
    "plt.title('Number of Actions per Member (Top 30)')\n",
    "plt.show()"
   ]
  },
  {
   "cell_type": "code",
   "execution_count": 21,
   "id": "b665ce10",
   "metadata": {
    "scrolled": true
   },
   "outputs": [
    {
     "name": "stdout",
     "output_type": "stream",
     "text": [
      "Member that has done the maximum # of actions is: 118280514 with: 103586 actions\n"
     ]
    }
   ],
   "source": [
    "c= SampleMemberActions.set_index('MEMBER_ID')\n",
    "print('Member that has done the maximum # of actions is:',c['count'].idxmax(),'with:', c['count'].max(),'actions')"
   ]
  },
  {
   "cell_type": "markdown",
   "id": "5ac0a388",
   "metadata": {},
   "source": [
    "As shown, Member '118280514' significantly dominates the number of actions with 103586 actions throughout the month."
   ]
  },
  {
   "cell_type": "markdown",
   "id": "fd1f1e1f",
   "metadata": {},
   "source": [
    "####  Number of Actions per member per period of Time"
   ]
  },
  {
   "cell_type": "code",
   "execution_count": 22,
   "id": "47ce0028",
   "metadata": {},
   "outputs": [
    {
     "name": "stdout",
     "output_type": "stream",
     "text": [
      "MEMBER_ID  ACTION_DATE        \n",
      "1000006    2022-04-28 11:59:33    1\n",
      "           2022-04-28 11:59:53    1\n",
      "           2022-04-28 12:00:19    1\n",
      "100000600  2022-04-05 14:46:28    1\n",
      "           2022-04-19 14:19:10    1\n",
      "                                 ..\n",
      "99995312   2022-04-10 14:33:34    1\n",
      "99995464   2022-04-02 12:21:59    1\n",
      "99996660   2022-04-26 14:24:24    1\n",
      "           2022-04-26 14:25:16    1\n",
      "99997692   2022-04-11 19:50:47    1\n",
      "Name: ACTION_ID, Length: 367512, dtype: int64\n"
     ]
    }
   ],
   "source": [
    "#NumActions = data.groupby(['MEMBER_ID','Date','Time'])['ACTION_ID'].count()  \n",
    "NumActions = data.groupby(['MEMBER_ID','ACTION_DATE'])['ACTION_ID'].count()  \n",
    "print(NumActions)\n",
    "\n",
    "NumActions= NumActions.reset_index(name='count')\n",
    "#'count' column represents number of actions for ecah member for each time period"
   ]
  },
  {
   "cell_type": "code",
   "execution_count": 23,
   "id": "0759f7f7",
   "metadata": {},
   "outputs": [
    {
     "data": {
      "text/plain": [
       "array([ 1,  2,  3,  4,  7, 11, 12,  5,  6,  8,  9, 13, 18, 17, 15, 14, 21,\n",
       "       16, 28, 19, 10, 22, 24, 25, 26, 20, 23, 27, 30, 29], dtype=int64)"
      ]
     },
     "execution_count": 23,
     "metadata": {},
     "output_type": "execute_result"
    }
   ],
   "source": [
    "NumActions['count'].unique()\n",
    "# There is count > 1 --> which means that per member per Period of Time there is more than 1 action !!!\n"
   ]
  },
  {
   "cell_type": "code",
   "execution_count": 24,
   "id": "a3d9428a",
   "metadata": {},
   "outputs": [
    {
     "data": {
      "text/html": [
       "<div>\n",
       "<style scoped>\n",
       "    .dataframe tbody tr th:only-of-type {\n",
       "        vertical-align: middle;\n",
       "    }\n",
       "\n",
       "    .dataframe tbody tr th {\n",
       "        vertical-align: top;\n",
       "    }\n",
       "\n",
       "    .dataframe thead th {\n",
       "        text-align: right;\n",
       "    }\n",
       "</style>\n",
       "<table border=\"1\" class=\"dataframe\">\n",
       "  <thead>\n",
       "    <tr style=\"text-align: right;\">\n",
       "      <th></th>\n",
       "      <th>MEMBER_ID</th>\n",
       "      <th>ACTION_DATE</th>\n",
       "      <th>count</th>\n",
       "    </tr>\n",
       "  </thead>\n",
       "  <tbody>\n",
       "    <tr>\n",
       "      <th>204667</th>\n",
       "      <td>118280514</td>\n",
       "      <td>2022-04-14 02:50:36</td>\n",
       "      <td>30</td>\n",
       "    </tr>\n",
       "    <tr>\n",
       "      <th>227368</th>\n",
       "      <td>118371934</td>\n",
       "      <td>2022-04-15 01:01:46</td>\n",
       "      <td>30</td>\n",
       "    </tr>\n",
       "    <tr>\n",
       "      <th>231504</th>\n",
       "      <td>118371934</td>\n",
       "      <td>2022-04-15 06:22:32</td>\n",
       "      <td>30</td>\n",
       "    </tr>\n",
       "    <tr>\n",
       "      <th>231803</th>\n",
       "      <td>118371934</td>\n",
       "      <td>2022-04-15 06:49:46</td>\n",
       "      <td>30</td>\n",
       "    </tr>\n",
       "    <tr>\n",
       "      <th>231343</th>\n",
       "      <td>118371934</td>\n",
       "      <td>2022-04-15 06:07:33</td>\n",
       "      <td>30</td>\n",
       "    </tr>\n",
       "    <tr>\n",
       "      <th>...</th>\n",
       "      <td>...</td>\n",
       "      <td>...</td>\n",
       "      <td>...</td>\n",
       "    </tr>\n",
       "    <tr>\n",
       "      <th>222777</th>\n",
       "      <td>118280514</td>\n",
       "      <td>2022-04-14 22:23:15</td>\n",
       "      <td>2</td>\n",
       "    </tr>\n",
       "    <tr>\n",
       "      <th>222778</th>\n",
       "      <td>118280514</td>\n",
       "      <td>2022-04-14 22:23:16</td>\n",
       "      <td>2</td>\n",
       "    </tr>\n",
       "    <tr>\n",
       "      <th>203658</th>\n",
       "      <td>118280514</td>\n",
       "      <td>2022-04-13 20:41:40</td>\n",
       "      <td>2</td>\n",
       "    </tr>\n",
       "    <tr>\n",
       "      <th>203655</th>\n",
       "      <td>118280514</td>\n",
       "      <td>2022-04-13 20:41:09</td>\n",
       "      <td>2</td>\n",
       "    </tr>\n",
       "    <tr>\n",
       "      <th>29</th>\n",
       "      <td>1000094</td>\n",
       "      <td>2022-04-15 14:14:22</td>\n",
       "      <td>2</td>\n",
       "    </tr>\n",
       "  </tbody>\n",
       "</table>\n",
       "<p>31846 rows × 3 columns</p>\n",
       "</div>"
      ],
      "text/plain": [
       "        MEMBER_ID         ACTION_DATE  count\n",
       "204667  118280514 2022-04-14 02:50:36     30\n",
       "227368  118371934 2022-04-15 01:01:46     30\n",
       "231504  118371934 2022-04-15 06:22:32     30\n",
       "231803  118371934 2022-04-15 06:49:46     30\n",
       "231343  118371934 2022-04-15 06:07:33     30\n",
       "...           ...                 ...    ...\n",
       "222777  118280514 2022-04-14 22:23:15      2\n",
       "222778  118280514 2022-04-14 22:23:16      2\n",
       "203658  118280514 2022-04-13 20:41:40      2\n",
       "203655  118280514 2022-04-13 20:41:09      2\n",
       "29        1000094 2022-04-15 14:14:22      2\n",
       "\n",
       "[31846 rows x 3 columns]"
      ]
     },
     "metadata": {},
     "output_type": "display_data"
    }
   ],
   "source": [
    "display(NumActions[NumActions['count']>1].sort_values('count',ascending=False))\n",
    "# As we can see here that there are 31846 record that shows that at the same second there is more than 1 action which is illogical\n"
   ]
  },
  {
   "cell_type": "code",
   "execution_count": 25,
   "id": "2755b672",
   "metadata": {},
   "outputs": [
    {
     "name": "stdout",
     "output_type": "stream",
     "text": [
      "Member ID that has the maximum # of actions at the same day & time period is: 118280514 with: 30  actions\n"
     ]
    }
   ],
   "source": [
    "NumActions2= NumActions.set_index('MEMBER_ID') \n",
    "print('Member ID that has the maximum # of actions at the same day & time period is:',NumActions2['count'].idxmax(),'with:', NumActions2['count'].max(),' actions')"
   ]
  },
  {
   "cell_type": "markdown",
   "id": "1c6589b5",
   "metadata": {},
   "source": [
    "Some members did plenty number actions at the same time."
   ]
  },
  {
   "cell_type": "code",
   "execution_count": 26,
   "id": "71fb3c86",
   "metadata": {},
   "outputs": [],
   "source": [
    "# NumActions = NumActions[NumActions['count']>=21]\n",
    "# # I took a sample which is only members who had done more than 20 action at the same period of time \n",
    "\n",
    "# g = sns.FacetGrid(NumActions, col=\"MEMBER_ID\", col_wrap=4, height=4)\n",
    "# g.map(plt.scatter, \"ACTION_DATE\", \"count\", alpha=.7)\n",
    "# g.set_xticklabels(rotation=45) \n",
    "# g.set_ylabels(\"Number of Actions\")\n",
    "# g.fig.suptitle('Number of Actions Over Time for Each Member', y=1.02)\n",
    "# plt.show()\n",
    "\n",
    "# # in the 1st graph each point represent number of actions member 118280514 has done in the same period pf time \n",
    "# # Analysis of actions per member per period revealed instances of multiple actions within the same second, \n",
    "# #suggesting potential data anomalies.\n",
    "# # In the data analysis, it was found that three members did more than 20 actions at the same time. \n",
    "# #The below figure shows a graphical representation of the actions of these three members. \n",
    "# #Each dot on the scatter plot represents a specific timestamp and the corresponding number of actions performed \n",
    "# #by a member (who has done more than 20 actions at the same time). \n",
    "# #However, it's important to note that due to ACTION_DATE included timestamps with high details (up to seconds), \n",
    "# #it leads to a dense concentration of points, causing overlapping issues in the scatter plot.\n"
   ]
  },
  {
   "cell_type": "markdown",
   "id": "286ee0e6",
   "metadata": {},
   "source": [
    "### Investigation of the Member with Maximum Actions "
   ]
  },
  {
   "cell_type": "markdown",
   "id": "3eb5a720",
   "metadata": {},
   "source": [
    "Further investigation of the member with the maximum number of actions ('118280514') on 14-04-2022 (the day with the largest number of actions) "
   ]
  },
  {
   "cell_type": "code",
   "execution_count": 27,
   "id": "b9d1a7cc",
   "metadata": {},
   "outputs": [],
   "source": [
    "Day14 = data[data['Date']=='2022-04-14']"
   ]
  },
  {
   "cell_type": "code",
   "execution_count": 28,
   "id": "e0369743",
   "metadata": {},
   "outputs": [
    {
     "data": {
      "text/plain": [
       "118280514    79157\n",
       "113693220      654\n",
       "113158184      399\n",
       "86891144       169\n",
       "99742024       155\n",
       "             ...  \n",
       "320820           1\n",
       "26682832         1\n",
       "5791706          1\n",
       "27554324         1\n",
       "118125818        1\n",
       "Name: MEMBER_ID, Length: 2479, dtype: int64"
      ]
     },
     "execution_count": 28,
     "metadata": {},
     "output_type": "execute_result"
    }
   ],
   "source": [
    "Day14['MEMBER_ID'].value_counts()"
   ]
  },
  {
   "cell_type": "markdown",
   "id": "4ac79de7",
   "metadata": {},
   "source": [
    "As we saw that at day 14 total number of actions was 89303, and here we see that member 118280514 has done 79157 actions \n",
    "at this day , which means 88% of all actions at day 14 were done by this member\n"
   ]
  },
  {
   "cell_type": "markdown",
   "id": "431c3264",
   "metadata": {},
   "source": [
    "##### Number of actions per hour at 14-april for member 118280514"
   ]
  },
  {
   "cell_type": "code",
   "execution_count": 29,
   "id": "f0f8748d",
   "metadata": {},
   "outputs": [],
   "source": [
    "userX14 = Day14[Day14['MEMBER_ID']=='118280514']"
   ]
  },
  {
   "cell_type": "code",
   "execution_count": 30,
   "id": "7cc59f9e",
   "metadata": {},
   "outputs": [
    {
     "data": {
      "image/png": "[encoded data removed]",
      "text/plain": [
       "<Figure size 640x480 with 1 Axes>"
      ]
     },
     "metadata": {},
     "output_type": "display_data"
    }
   ],
   "source": [
    "userX14 = userX14.groupby('Hour')['ACTION_ID'].count().reset_index(name='count')\n",
    "# plt.bar(userX14['Hour'], userX14['count'])\n",
    "plt.plot(userX14['Hour'], userX14['count'], marker='o', color='darkblue')\n",
    "plt.xticks(userX14['Hour'])\n",
    "plt.xlabel('Hour')\n",
    "plt.ylabel('Number of Actions')\n",
    "plt.title('Number of Actions per Hour for member(118280514)')\n",
    "plt.tight_layout()\n",
    "plt.show()"
   ]
  },
  {
   "cell_type": "code",
   "execution_count": 31,
   "id": "14cc072b",
   "metadata": {},
   "outputs": [
    {
     "data": {
      "text/html": [
       "<div>\n",
       "<style scoped>\n",
       "    .dataframe tbody tr th:only-of-type {\n",
       "        vertical-align: middle;\n",
       "    }\n",
       "\n",
       "    .dataframe tbody tr th {\n",
       "        vertical-align: top;\n",
       "    }\n",
       "\n",
       "    .dataframe thead th {\n",
       "        text-align: right;\n",
       "    }\n",
       "</style>\n",
       "<table border=\"1\" class=\"dataframe\">\n",
       "  <thead>\n",
       "    <tr style=\"text-align: right;\">\n",
       "      <th></th>\n",
       "      <th>Hour</th>\n",
       "      <th>count</th>\n",
       "    </tr>\n",
       "  </thead>\n",
       "  <tbody>\n",
       "    <tr>\n",
       "      <th>0</th>\n",
       "      <td>2</td>\n",
       "      <td>991</td>\n",
       "    </tr>\n",
       "    <tr>\n",
       "      <th>1</th>\n",
       "      <td>3</td>\n",
       "      <td>2280</td>\n",
       "    </tr>\n",
       "    <tr>\n",
       "      <th>2</th>\n",
       "      <td>4</td>\n",
       "      <td>716</td>\n",
       "    </tr>\n",
       "    <tr>\n",
       "      <th>3</th>\n",
       "      <td>5</td>\n",
       "      <td>5334</td>\n",
       "    </tr>\n",
       "    <tr>\n",
       "      <th>4</th>\n",
       "      <td>6</td>\n",
       "      <td>6204</td>\n",
       "    </tr>\n",
       "    <tr>\n",
       "      <th>5</th>\n",
       "      <td>7</td>\n",
       "      <td>2982</td>\n",
       "    </tr>\n",
       "    <tr>\n",
       "      <th>6</th>\n",
       "      <td>8</td>\n",
       "      <td>142</td>\n",
       "    </tr>\n",
       "    <tr>\n",
       "      <th>7</th>\n",
       "      <td>9</td>\n",
       "      <td>1081</td>\n",
       "    </tr>\n",
       "    <tr>\n",
       "      <th>8</th>\n",
       "      <td>10</td>\n",
       "      <td>4415</td>\n",
       "    </tr>\n",
       "    <tr>\n",
       "      <th>9</th>\n",
       "      <td>11</td>\n",
       "      <td>4937</td>\n",
       "    </tr>\n",
       "    <tr>\n",
       "      <th>10</th>\n",
       "      <td>12</td>\n",
       "      <td>5339</td>\n",
       "    </tr>\n",
       "    <tr>\n",
       "      <th>11</th>\n",
       "      <td>13</td>\n",
       "      <td>4904</td>\n",
       "    </tr>\n",
       "    <tr>\n",
       "      <th>12</th>\n",
       "      <td>14</td>\n",
       "      <td>2644</td>\n",
       "    </tr>\n",
       "    <tr>\n",
       "      <th>13</th>\n",
       "      <td>15</td>\n",
       "      <td>2088</td>\n",
       "    </tr>\n",
       "    <tr>\n",
       "      <th>14</th>\n",
       "      <td>16</td>\n",
       "      <td>3141</td>\n",
       "    </tr>\n",
       "    <tr>\n",
       "      <th>15</th>\n",
       "      <td>17</td>\n",
       "      <td>4566</td>\n",
       "    </tr>\n",
       "    <tr>\n",
       "      <th>16</th>\n",
       "      <td>18</td>\n",
       "      <td>4289</td>\n",
       "    </tr>\n",
       "    <tr>\n",
       "      <th>17</th>\n",
       "      <td>19</td>\n",
       "      <td>4505</td>\n",
       "    </tr>\n",
       "    <tr>\n",
       "      <th>18</th>\n",
       "      <td>20</td>\n",
       "      <td>2844</td>\n",
       "    </tr>\n",
       "    <tr>\n",
       "      <th>19</th>\n",
       "      <td>21</td>\n",
       "      <td>3841</td>\n",
       "    </tr>\n",
       "    <tr>\n",
       "      <th>20</th>\n",
       "      <td>22</td>\n",
       "      <td>5065</td>\n",
       "    </tr>\n",
       "    <tr>\n",
       "      <th>21</th>\n",
       "      <td>23</td>\n",
       "      <td>6849</td>\n",
       "    </tr>\n",
       "  </tbody>\n",
       "</table>\n",
       "</div>"
      ],
      "text/plain": [
       "    Hour  count\n",
       "0      2    991\n",
       "1      3   2280\n",
       "2      4    716\n",
       "3      5   5334\n",
       "4      6   6204\n",
       "5      7   2982\n",
       "6      8    142\n",
       "7      9   1081\n",
       "8     10   4415\n",
       "9     11   4937\n",
       "10    12   5339\n",
       "11    13   4904\n",
       "12    14   2644\n",
       "13    15   2088\n",
       "14    16   3141\n",
       "15    17   4566\n",
       "16    18   4289\n",
       "17    19   4505\n",
       "18    20   2844\n",
       "19    21   3841\n",
       "20    22   5065\n",
       "21    23   6849"
      ]
     },
     "execution_count": 31,
     "metadata": {},
     "output_type": "execute_result"
    }
   ],
   "source": [
    "userX14\n",
    "# at hour 23 he done 6849 action , which means 114 action per minute  "
   ]
  },
  {
   "cell_type": "markdown",
   "id": "8e1ce55a",
   "metadata": {},
   "source": [
    "as shown in the figure above, an Analysis of actions per hour for this member showed that he was doing actions for 22 hours on 14-04-2022, which is illogical."
   ]
  },
  {
   "cell_type": "markdown",
   "id": "72d387ae",
   "metadata": {},
   "source": [
    "# Potential Causes of the Problem"
   ]
  },
  {
   "cell_type": "markdown",
   "id": "18e554a4",
   "metadata": {},
   "source": [
    "The problem centers around an abnormal surge in 'show_number' actions, particularly on 14-04-2022, primarily driven by member '118280514'. In addition to the issue where there is more than one action recorded per second for some members. \n",
    "\n",
    "Potential causes of the problem are, \n",
    "1.\tTechnical Glitches.\n",
    "2.\tAutomated Actions, for example, if members are rewarded for performing 'show_number' actions, they may feed the system with false data (not humans that are doing actions). \n"
   ]
  },
  {
   "cell_type": "markdown",
   "id": "e8e004f7",
   "metadata": {},
   "source": [
    "# Recommendations for Mitigation\n"
   ]
  },
  {
   "cell_type": "markdown",
   "id": "bcfd185c",
   "metadata": {},
   "source": [
    "To address the problem, the following recommendations may help solve the problem,\n",
    "1.\tMonitoring and Alerts:\n",
    "\n",
    "    Implement real-time monitoring systems with alert mechanisms to notify stakeholders of unusual patterns in actions, for         example, when there are several actions at the same second.\n",
    "\n",
    "\n",
    "2.\tCommunication with Members:\n",
    "\n",
    "    Communicate with members to address the problem with their actions.\n"
   ]
  }
 ],
 "metadata": {
  "kernelspec": {
   "display_name": "Python 3 (ipykernel)",
   "language": "python",
   "name": "python3"
  },
  "language_info": {
   "codemirror_mode": {
    "name": "ipython",
    "version": 3
   },
   "file_extension": ".py",
   "mimetype": "text/x-python",
   "name": "python",
   "nbconvert_exporter": "python",
   "pygments_lexer": "ipython3",
   "version": "3.9.13"
  }
 },
 "nbformat": 4,
 "nbformat_minor": 5
}
